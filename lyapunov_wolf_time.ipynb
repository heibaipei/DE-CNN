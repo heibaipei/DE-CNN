{
 "cells": [
  {
   "cell_type": "code",
   "execution_count": 1,
   "metadata": {
    "scrolled": false
   },
   "outputs": [],
   "source": [
    "import time\n",
    "from sklearn import preprocessing\n",
    "from scipy.signal import butter, lfilter\n",
    "import scipy.io as sio\n",
    "import numpy as np\n",
    "import os\n",
    "import math\n",
    "import matplotlib.pyplot as plt\n",
    "import pandas as pd\n",
    "import scipy"
   ]
  },
  {
   "cell_type": "code",
   "execution_count": 2,
   "metadata": {},
   "outputs": [],
   "source": [
    "def lyapunov_wolf(data, N, m, tau, P):\n",
    "    \"\"\"\n",
    "    %  该函数用来计算时间序列的最大Lyapunov 指数--Wolf 方法\n",
    "    %  m: 嵌入维数\n",
    "    %  tau:时间延迟\n",
    "    %  data:时间序列\n",
    "    %  N:时间序列长度\n",
    "    %  P:时间序列的平均周期,选择演化相点距当前点的位置差，即若当前相点为I，则演化相点只能在|I－J|>P的相点中搜寻\n",
    "    %  lambda_1:返回最大lyapunov指数值\n",
    "    \"\"\"\n",
    "    min_point = 1  # 要求最少搜索到的点数\n",
    "    MAX_CISHU = 5  # 最大增加搜索范围次数\n",
    "    max_d = 0  # 最大相点距离\n",
    "    min_d = 1.0e+100  # 最小相点距离\n",
    "    avg_dd = 0\n",
    "    Y = reconstitution(data, m, tau)  # 相空间重构\n",
    "    M = N - (m - 1) * tau  # 重构相空间中相点的个数\n",
    "    for i in range(M - 1):\n",
    "        for j in range(i + 1, M):\n",
    "            d = 0\n",
    "            for k in range(m):\n",
    "                d = d + (Y[k][i] - Y[k][j]) * (Y[k][i] - Y[k][j])\n",
    "            d = math.sqrt(d)\n",
    "            if max_d < d:\n",
    "                max_d = d\n",
    "            if min_d > d:\n",
    "                min_d = d\n",
    "            avg_dd = avg_dd + d\n",
    "    avg_d = 2 * avg_dd / (M * (M - 1))  # 平均相点距离\n",
    "\n",
    "    dlt_eps = (avg_d - min_d) * 0.02  # 若在min_eps～max_eps中找不到演化相点时，对max_eps的放宽幅度\n",
    "    min_eps = min_d + dlt_eps / 2  # 演化相点与当前相点距离的最小限\n",
    "    max_eps = min_d + 2 * dlt_eps  # 演化相点与当前相点距离的最大限\n",
    "\n",
    "    # 从P+1～M-1个相点中找与第一个相点最近的相点位置(Loc_DK)及其最短距离DK\n",
    "    DK = 1.0e+100  # 第i个相点到其最近距离点的距离\n",
    "    Loc_DK = 1  # 第i个相点对应的最近距离点的下标\n",
    "\n",
    "    for i in range(P + 1, M - 1):  # 限制短暂分离，从点P+1开始搜索\n",
    "        d = 0\n",
    "        for k in range(m):\n",
    "            d = d + (Y[k][i] - Y[k][0]) * (Y[k][i] - Y[k][0])\n",
    "        d = math.sqrt(d)\n",
    "        if (d < DK) and (d > min_eps):\n",
    "            DK = d\n",
    "            Loc_DK = i\n",
    "    #    以下计算各相点对应的李氏数保存到lmd()数组中\n",
    "    #     i 为相点序号，从1到(M-1)，也是i-1点的演化点；Loc_DK为相点i-1对应最短距离的相点位置，DK为其对应的最短距离\n",
    "    #     Loc_DK+1为Loc_DK的演化点，DK1为i点到Loc_DK+1点的距离，称为演化距离\n",
    "    #     前i个log2（DK1/DK）的累计和用于求i点的lambda值\n",
    "    sum_lmd = 0  # 存放前i个log2（DK1/DK）的累计和\n",
    "    lmd = np.zeros(M - 1)\n",
    "    for i in range(1, M - 1):  # 计算演化距离\n",
    "        DK1 = 0\n",
    "        for k in range(m):\n",
    "            DK1 = DK1 + (Y[k][i] - Y[k][Loc_DK + 1]) * (Y[k][i] - Y[k][Loc_DK + 1])\n",
    "        DK1 = math.sqrt(DK1)\n",
    "        old_Loc_DK = Loc_DK  # 保存原最近位置相点\n",
    "        old_DK = DK\n",
    "\n",
    "        #    计算前i个log2（DK1/DK）的累计和以及保存i点的李氏指数\n",
    "        if (DK1 != 0) and (DK != 0):\n",
    "            sum_lmd = sum_lmd + np.log(DK1 / DK) / np.log(2)\n",
    "\n",
    "        lmd[i - 1] = sum_lmd / [i]\n",
    "        #  以下寻找i点的最短距离：要求距离在指定距离范围内尽量短，与DK1的角度最小\n",
    "        point_num = 0  # 在指定距离范围内找到的候选相点的个数\n",
    "        cos_sita = 0  # 夹角余弦的比较初值 ——要求一定是锐角\n",
    "        zjfwcs = 0  # 增加范围次数\n",
    "        while (point_num == 0):\n",
    "            # 搜索相点\n",
    "            for j in range(M - 1):\n",
    "                if abs(j - i) <= (P - 1):  # 候选点距当前点太近，跳过！\n",
    "                    continue\n",
    "                    # 计算候选点与当前点的距离\n",
    "                dnew = 0\n",
    "                for k in range(m):\n",
    "                    dnew = dnew + (Y[k][i] - Y[k][j]) * (Y[k][i] - Y[k][j])\n",
    "                dnew = math.sqrt(dnew)\n",
    "                if (dnew < min_eps) or (dnew > max_eps):  # 不在距离范围，跳过！\n",
    "                    continue\n",
    "                    # 计算夹角余弦及比较\n",
    "                DOT = 0\n",
    "                for k in range(m):\n",
    "                    DOT = DOT + (Y[k][i] - Y[k][j]) * (Y[k][i] - Y[k][old_Loc_DK + 1])\n",
    "                CTH = DOT / (dnew * DK1)\n",
    "                # print(CTH)\n",
    "                if CTH > 1.0:\n",
    "                    CTH = 1.0\n",
    "                if math.acos(CTH) > (3.14151926 / 4):  # 不是小于45度的角，跳过！\n",
    "                    continue\n",
    "                if CTH > cos_sita:  # 新夹角小于过去已找到的相点的夹角，保留\n",
    "                    cos_sita = CTH\n",
    "                    Loc_DK = j\n",
    "                    DK = dnew\n",
    "                point_num = point_num + 1\n",
    "\n",
    "            if point_num <= min_point:\n",
    "                max_eps = max_eps + dlt_eps\n",
    "                zjfwcs = zjfwcs + 1\n",
    "                if zjfwcs > MAX_CISHU:  # 超过最大放宽次数，改找最近的点\n",
    "                    DK = 1.0e+100\n",
    "                    for ii in range(M - 1):\n",
    "                        if abs(i - ii) <= (P - 1):  # 候选点距当前点太近，跳过！\n",
    "                            continue\n",
    "                        d = 0\n",
    "                        for k in range(m):\n",
    "                            d = d + (Y[k][i] - Y[k][ii]) * (Y[k][i] - Y[k][ii])\n",
    "                        d = math.sqrt(d)\n",
    "                        if (d < DK) and (d > min_eps):\n",
    "                            DK = d\n",
    "                            Loc_DK = ii\n",
    "                    break\n",
    "                point_num = 0  # %&&扩大距离范围后重新搜索\n",
    "                cos_sita = 0\n",
    "    # 取平均得到最大李雅普诺夫指数\n",
    "    # plt.plot(lmd)\n",
    "    # plt.show()\n",
    "    lambda_1 = sum(lmd) / len(lmd)\n",
    "    # lambda_2 = max(lmd)\n",
    "    # print(\"1\")\n",
    "    return lambda_1"
   ]
  },
  {
   "cell_type": "code",
   "execution_count": 3,
   "metadata": {},
   "outputs": [],
   "source": [
    "def reconstitution(data, m, tau):\n",
    "    \"\"\"\n",
    "    %该函数用来重构相空间\n",
    "    % m为嵌入空间维数\n",
    "    % tau为时间延迟\n",
    "    % data为输入时间序列\n",
    "    % N为时间序列长度\n",
    "    % X为输出,是m*M维矩阵\n",
    "    \"\"\"\n",
    "    N = len(data)\n",
    "    M = N - (m - 1) * tau  # 相空间中点的个数\n",
    "    X = np.zeros((m, M))\n",
    "    for j in range(M):\n",
    "        for i in range(m):\n",
    "            X[i][j] = data[(i - 1) * tau + j]\n",
    "    return X"
   ]
  },
  {
   "cell_type": "code",
   "execution_count": 4,
   "metadata": {},
   "outputs": [],
   "source": [
    "def Max_lyapunov(data):\n",
    "    m = 10\n",
    "    tau = 2\n",
    "    N = len(data)\n",
    "    print(\"N\", N)\n",
    "    P = 10\n",
    "    lambda_1 = lyapunov_wolf(data, N, m, tau, P)\n",
    "    return lambda_1"
   ]
  },
  {
   "cell_type": "code",
   "execution_count": 11,
   "metadata": {},
   "outputs": [
    {
     "name": "stdout",
     "output_type": "stream",
     "text": [
      "dict_keys(['__header__', '__version__', '__globals__', 'djc_eeg1', 'djc_eeg2', 'djc_eeg3', 'djc_eeg4', 'djc_eeg5', 'djc_eeg6', 'djc_eeg7', 'djc_eeg8', 'djc_eeg9', 'djc_eeg10', 'djc_eeg11', 'djc_eeg12', 'djc_eeg13', 'djc_eeg14', 'djc_eeg15'])\n",
      "1567413407.8080752\n",
      "N 1000\n",
      "0.06666568922402255\n",
      "t_sum 12.591797590255737\n"
     ]
    }
   ],
   "source": [
    "import scipy\n",
    "\n",
    "student_data_path = \"cat/1\"\n",
    "data = scipy.io.loadmat(student_data_path)\n",
    "print(data.keys())\n",
    "temp = data[\"djc_eeg11\"]\n",
    "\n",
    "tt1 = time.time()\n",
    "print(tt1)\n",
    "t = Max_lyapunov(temp[4][1000:2000])\n",
    "print(t)\n",
    "tt2 = time.time()\n",
    "\n",
    "t_sum = tt2-tt1\n",
    "print(\"t_sum\", t_sum)\n"
   ]
  },
  {
   "cell_type": "code",
   "execution_count": 12,
   "metadata": {},
   "outputs": [],
   "source": [
    "def compute_DE(signal):\n",
    "    variance = np.var(signal, ddof=1)\n",
    "    return math.log(2*math.pi*math.e*variance)/2"
   ]
  },
  {
   "cell_type": "code",
   "execution_count": 13,
   "metadata": {},
   "outputs": [
    {
     "name": "stdout",
     "output_type": "stream",
     "text": [
      "1567428917.479011\n",
      "4.4569761098470355\n",
      "t_sum 0.0006401538848876953\n"
     ]
    }
   ],
   "source": [
    "tt1 = time.time()\n",
    "print(tt1)\n",
    "t = compute_DE(temp[4][1000:2000])\n",
    "print(t)\n",
    "tt2 = time.time()\n",
    "\n",
    "t_sum = tt2-tt1\n",
    "print(\"t_sum\", t_sum)"
   ]
  },
  {
   "cell_type": "code",
   "execution_count": 14,
   "metadata": {},
   "outputs": [],
   "source": [
    "def wgn(x, snr):  ## 功率谱密度？\n",
    "    snr = 10**(snr/10.0)\n",
    "    xpower = np.sum(x**2)/len(x)\n",
    "    npower = xpower / snr\n",
    "    return np.random.randn(len(x)) * np.sqrt(npower)"
   ]
  },
  {
   "cell_type": "code",
   "execution_count": 16,
   "metadata": {},
   "outputs": [
    {
     "name": "stdout",
     "output_type": "stream",
     "text": [
      "1567429663.4954758\n",
      "(1000,)\n",
      "t_sum 0.0019202232360839844\n"
     ]
    }
   ],
   "source": [
    "tt1 = time.time()\n",
    "print(tt1)\n",
    "t = wgn(temp[4][1000:2000],10)\n",
    "print(t.shape)\n",
    "tt2 = time.time()\n",
    "\n",
    "t_sum = tt2-tt1\n",
    "print(\"t_sum\", t_sum)"
   ]
  },
  {
   "cell_type": "code",
   "execution_count": null,
   "metadata": {},
   "outputs": [],
   "source": []
  }
 ],
 "metadata": {
  "kernelspec": {
   "display_name": "Python 3",
   "language": "python",
   "name": "python3"
  },
  "language_info": {
   "codemirror_mode": {
    "name": "ipython",
    "version": 3
   },
   "file_extension": ".py",
   "mimetype": "text/x-python",
   "name": "python",
   "nbconvert_exporter": "python",
   "pygments_lexer": "ipython3",
   "version": "3.7.3"
  }
 },
 "nbformat": 4,
 "nbformat_minor": 2
}
